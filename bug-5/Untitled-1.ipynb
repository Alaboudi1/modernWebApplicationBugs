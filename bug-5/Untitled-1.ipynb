{
 "cells": [
  {
   "cell_type": "code",
   "execution_count": 14,
   "metadata": {},
   "outputs": [],
   "source": [
    "import pandas as pd\n",
    "import numpy as np\n"
   ]
  },
  {
   "cell_type": "code",
   "execution_count": 15,
   "metadata": {},
   "outputs": [],
   "source": [
    "# read csv file\n",
    "df = pd.read_csv('QueryResults.csv', encoding='latin-1')\n",
    "\n",
    "# read tags column\n",
    "tags = df['tag']\n",
    "\n",
    "\n"
   ]
  },
  {
   "cell_type": "code",
   "execution_count": 16,
   "metadata": {},
   "outputs": [
    {
     "data": {
      "text/html": [
       "<div>\n",
       "<style scoped>\n",
       "    .dataframe tbody tr th:only-of-type {\n",
       "        vertical-align: middle;\n",
       "    }\n",
       "\n",
       "    .dataframe tbody tr th {\n",
       "        vertical-align: top;\n",
       "    }\n",
       "\n",
       "    .dataframe thead th {\n",
       "        text-align: right;\n",
       "    }\n",
       "</style>\n",
       "<table border=\"1\" class=\"dataframe\">\n",
       "  <thead>\n",
       "    <tr style=\"text-align: right;\">\n",
       "      <th></th>\n",
       "      <th>Post Link</th>\n",
       "      <th>tag</th>\n",
       "      <th>views</th>\n",
       "      <th>dateCreated</th>\n",
       "      <th>tag_count</th>\n",
       "    </tr>\n",
       "  </thead>\n",
       "  <tbody>\n",
       "    <tr>\n",
       "      <th>0</th>\n",
       "      <td>72401421</td>\n",
       "      <td>&lt;npm&gt;&lt;warnings&gt;</td>\n",
       "      <td>355697</td>\n",
       "      <td>2022-05-27 06:40:59</td>\n",
       "      <td>2</td>\n",
       "    </tr>\n",
       "    <tr>\n",
       "      <th>1</th>\n",
       "      <td>71668256</td>\n",
       "      <td>&lt;javascript&gt;&lt;reactjs&gt;</td>\n",
       "      <td>188792</td>\n",
       "      <td>2022-03-29 20:11:46</td>\n",
       "      <td>2</td>\n",
       "    </tr>\n",
       "    <tr>\n",
       "      <th>2</th>\n",
       "      <td>71009659</td>\n",
       "      <td>&lt;pip&gt;&lt;python-packaging&gt;&lt;allennlp&gt;</td>\n",
       "      <td>179611</td>\n",
       "      <td>2022-02-06 17:14:40</td>\n",
       "      <td>3</td>\n",
       "    </tr>\n",
       "    <tr>\n",
       "      <th>3</th>\n",
       "      <td>71591971</td>\n",
       "      <td>&lt;python&gt;&lt;macos&gt;&lt;terminal&gt;&lt;atom-editor&gt;&lt;macos-m...</td>\n",
       "      <td>149533</td>\n",
       "      <td>2022-03-23 18:02:02</td>\n",
       "      <td>5</td>\n",
       "    </tr>\n",
       "    <tr>\n",
       "      <th>4</th>\n",
       "      <td>71901632</td>\n",
       "      <td>&lt;git&gt;&lt;cve-2022-24765&gt;</td>\n",
       "      <td>124621</td>\n",
       "      <td>2022-04-17 11:49:59</td>\n",
       "      <td>2</td>\n",
       "    </tr>\n",
       "    <tr>\n",
       "      <th>...</th>\n",
       "      <td>...</td>\n",
       "      <td>...</td>\n",
       "      <td>...</td>\n",
       "      <td>...</td>\n",
       "      <td>...</td>\n",
       "    </tr>\n",
       "    <tr>\n",
       "      <th>9995</th>\n",
       "      <td>70584735</td>\n",
       "      <td>&lt;reactjs&gt;&lt;material-ui&gt;</td>\n",
       "      <td>2158</td>\n",
       "      <td>2022-01-04 20:35:00</td>\n",
       "      <td>2</td>\n",
       "    </tr>\n",
       "    <tr>\n",
       "      <th>9996</th>\n",
       "      <td>71527992</td>\n",
       "      <td>&lt;python&gt;&lt;pandas&gt;&lt;dataframe&gt;&lt;pandas.excelwriter...</td>\n",
       "      <td>2158</td>\n",
       "      <td>2022-03-18 13:46:30</td>\n",
       "      <td>5</td>\n",
       "    </tr>\n",
       "    <tr>\n",
       "      <th>9997</th>\n",
       "      <td>70904665</td>\n",
       "      <td>&lt;react-router-dom&gt;&lt;react-testing-library&gt;&lt;ts-j...</td>\n",
       "      <td>2158</td>\n",
       "      <td>2022-01-29 11:03:20</td>\n",
       "      <td>3</td>\n",
       "    </tr>\n",
       "    <tr>\n",
       "      <th>9998</th>\n",
       "      <td>70785714</td>\n",
       "      <td>&lt;gitlab&gt;&lt;gitlab-ci&gt;&lt;gitlab-api&gt;</td>\n",
       "      <td>2158</td>\n",
       "      <td>2022-01-20 11:49:26</td>\n",
       "      <td>3</td>\n",
       "    </tr>\n",
       "    <tr>\n",
       "      <th>9999</th>\n",
       "      <td>70903668</td>\n",
       "      <td>&lt;python-3.x&gt;&lt;pylint&gt;&lt;docstring&gt;</td>\n",
       "      <td>2158</td>\n",
       "      <td>2022-01-29 08:46:13</td>\n",
       "      <td>3</td>\n",
       "    </tr>\n",
       "  </tbody>\n",
       "</table>\n",
       "<p>10000 rows × 5 columns</p>\n",
       "</div>"
      ],
      "text/plain": [
       "      Post Link                                                tag   views  \\\n",
       "0      72401421                                    <npm><warnings>  355697   \n",
       "1      71668256                              <javascript><reactjs>  188792   \n",
       "2      71009659                  <pip><python-packaging><allennlp>  179611   \n",
       "3      71591971  <python><macos><terminal><atom-editor><macos-m...  149533   \n",
       "4      71901632                              <git><cve-2022-24765>  124621   \n",
       "...         ...                                                ...     ...   \n",
       "9995   70584735                             <reactjs><material-ui>    2158   \n",
       "9996   71527992  <python><pandas><dataframe><pandas.excelwriter...    2158   \n",
       "9997   70904665  <react-router-dom><react-testing-library><ts-j...    2158   \n",
       "9998   70785714                    <gitlab><gitlab-ci><gitlab-api>    2158   \n",
       "9999   70903668                    <python-3.x><pylint><docstring>    2158   \n",
       "\n",
       "              dateCreated  tag_count  \n",
       "0     2022-05-27 06:40:59          2  \n",
       "1     2022-03-29 20:11:46          2  \n",
       "2     2022-02-06 17:14:40          3  \n",
       "3     2022-03-23 18:02:02          5  \n",
       "4     2022-04-17 11:49:59          2  \n",
       "...                   ...        ...  \n",
       "9995  2022-01-04 20:35:00          2  \n",
       "9996  2022-03-18 13:46:30          5  \n",
       "9997  2022-01-29 11:03:20          3  \n",
       "9998  2022-01-20 11:49:26          3  \n",
       "9999  2022-01-29 08:46:13          3  \n",
       "\n",
       "[10000 rows x 5 columns]"
      ]
     },
     "execution_count": 16,
     "metadata": {},
     "output_type": "execute_result"
    }
   ],
   "source": [
    "# count the number of tags in each row <tag>\n",
    "# and store it in a new column <tag_count>\n",
    "\n",
    "df['tag_count'] = df['tag'].str.count('<') \n",
    "\n",
    "df\n",
    "\n"
   ]
  },
  {
   "cell_type": "code",
   "execution_count": 20,
   "metadata": {},
   "outputs": [
    {
     "data": {
      "text/plain": [
       "<AxesSubplot: >"
      ]
     },
     "execution_count": 20,
     "metadata": {},
     "output_type": "execute_result"
    },
    {
     "data": {
      "image/png": "[encoded data removed]",
      "text/plain": [
       "<Figure size 640x480 with 1 Axes>"
      ]
     },
     "metadata": {},
     "output_type": "display_data"
    }
   ],
   "source": [
    "df.tag_count.describe()\n",
    "\n",
    "df.tag_count.hist()"
   ]
  }
 ],
 "metadata": {
  "kernelspec": {
   "display_name": "Python 3.10.6 64-bit",
   "language": "python",
   "name": "python3"
  },
  "language_info": {
   "codemirror_mode": {
    "name": "ipython",
    "version": 3
   },
   "file_extension": ".py",
   "mimetype": "text/x-python",
   "name": "python",
   "nbconvert_exporter": "python",
   "pygments_lexer": "ipython3",
   "version": "3.10.6"
  },
  "orig_nbformat": 4,
  "vscode": {
   "interpreter": {
    "hash": "b0fa6594d8f4cbf19f97940f81e996739fb7646882a419484c72d19e05852a7e"
   }
  }
 },
 "nbformat": 4,
 "nbformat_minor": 2
}
